{
 "cells": [
  {
   "attachments": {},
   "cell_type": "markdown",
   "metadata": {},
   "source": [
    "# [IAPR][iapr]: Lab 3 ‒  Classification\n",
    "\n",
    "\n",
    "**Group ID:** 37\n",
    "\n",
    "**Author 1 (sciper):** Elias De Smijter (366670)  \n",
    "**Author 2 (sciper):** Félicie Alice Agnès Marie Giraud-Sauveur (284220)   \n",
    "**Author 3 (sciper):** Cyril Felix Monette (299554) \n",
    "\n",
    "**Release date:** 19.04.2023  \n",
    "**Due date:** 05.05.2023 \n",
    "\n",
    "\n",
    "## Important notes\n",
    "\n",
    "The lab assignments are designed to teach practical implementation of the topics presented during class well as\n",
    "preparation for the final project, which is a practical project which ties together the topics of the course.\n",
    "\n",
    "As such, in the lab assignments/final project, unless otherwise specified, you may, if you choose, use external\n",
    "functions from image processing/ML libraries like opencv and sklearn as long as there is sufficient explanation\n",
    "in the lab report. For example, you do not need to implement your own edge detector, etc.\n",
    "\n",
    "**! Before handling back the notebook <font color='red'> rerun </font>the notebook from scratch !**\n",
    "`Kernel` > `Restart & Run All`\n",
    "\n",
    "We will not rerun the notebook for you.\n",
    "\n",
    "\n",
    "[iapr]: https://github.com/LTS5/iapr"
   ]
  },
  {
   "cell_type": "markdown",
   "metadata": {},
   "source": [
    "--\n",
    "## 0. Setup"
   ]
  },
  {
   "cell_type": "code",
   "execution_count": 1,
   "metadata": {},
   "outputs": [],
   "source": [
    "%load_ext autoreload\n",
    "%autoreload 2"
   ]
  },
  {
   "cell_type": "markdown",
   "metadata": {},
   "source": [
    "In this lab, we will use PyTorch. If you are not familiar with this library, [here](https://pytorch.org/tutorials/beginner/blitz/tensor_tutorial.html) is a quick tutorial of the basics."
   ]
  },
  {
   "cell_type": "code",
   "execution_count": 2,
   "metadata": {},
   "outputs": [
    {
     "name": "stdout",
     "output_type": "stream",
     "text": [
      "Darwin\n",
      "Requirement already satisfied: torch==1.8.1 in /Users/cyrilmonette/opt/anaconda3/envs/iapr/lib/python3.6/site-packages (1.8.1)\n",
      "Requirement already satisfied: torchvision==0.9.1 in /Users/cyrilmonette/opt/anaconda3/envs/iapr/lib/python3.6/site-packages (0.9.1)\n",
      "Requirement already satisfied: dataclasses in /Users/cyrilmonette/opt/anaconda3/envs/iapr/lib/python3.6/site-packages (from torch==1.8.1) (0.8)\n",
      "Requirement already satisfied: typing-extensions in /Users/cyrilmonette/opt/anaconda3/envs/iapr/lib/python3.6/site-packages (from torch==1.8.1) (4.1.1)\n",
      "Requirement already satisfied: numpy in /Users/cyrilmonette/opt/anaconda3/envs/iapr/lib/python3.6/site-packages (from torch==1.8.1) (1.19.5)\n",
      "Requirement already satisfied: pillow>=4.1.1 in /Users/cyrilmonette/opt/anaconda3/envs/iapr/lib/python3.6/site-packages (from torchvision==0.9.1) (8.4.0)\n",
      "Note: you may need to restart the kernel to use updated packages.\n"
     ]
    }
   ],
   "source": [
    "import platform\n",
    "print(platform.system())\n",
    "if platform.system() == \"Darwin\":\n",
    "    %pip install torch==1.8.1 torchvision==0.9.1\n",
    "else:\n",
    "    %pip install torch==1.8.1+cu111 torchvision==0.9.1+cu111 -f https://download.pytorch.org/whl/torch_stable.html"
   ]
  },
  {
   "cell_type": "code",
   "execution_count": 3,
   "metadata": {},
   "outputs": [],
   "source": [
    "import tarfile\n",
    "import os\n",
    "\n",
    "data_base_path = os.path.join(os.pardir, 'data')\n",
    "data_folder = 'lab-03-data'\n",
    "tar_path = os.path.join(data_base_path, data_folder + '.tar.gz')\n",
    "with tarfile.open(tar_path, mode='r:gz') as tar:\n",
    "    tar.extractall(path=data_base_path)"
   ]
  },
  {
   "cell_type": "markdown",
   "metadata": {},
   "source": [
    "---\n",
    "## Part 1 - Out-of-Distribution detection in colorectal cancer histology (12 points)\n",
    "\n",
    "Colorectal cancer is one of the most widespread cancers for men and women. Diagnosis complemented with prognostic and predictive biomarker information is essential for patient monitoring and applying personalized treatments. A critical marker is the tumor/stroma ratio in unhealthy tissues sampled from the colon. The higher the ratio, the more invasive the cancer is. The degree of invasion is tightly linked to patient survial probability.\n",
    "\n",
    "To measure the ratio, a pathologist needs to analyze the unhealthy tissue under a microscope and estimate it from a look. As the number of samples to analyze is huge and estimations are only sometimes precise, automatic recognition of the different tissue types in histological images has become essential. Such an automatic process requires the development of a multi-class classifier to identify the numerous tissues. As shown below, they are usually 8 tissue types to categorize: TUMOR, STROMA, LYMPHO (lymphocytes), MUCOSA, COMPLEX (complex stroma), DEBRIS, ADIPOSE and EMPTY (background).\n",
    "\n",
    "<br />\n",
    "<br />\n",
    "<figure>\n",
    "    <img src=\"../data/lab-03-data/part1/kather16.svg\" width=\"1100\">\n",
    "    <center>\n",
    "    <figcaption>Fig1: Collection of tissue types in colorectal cancer histology (Kather-16)</figcaption>\n",
    "    </center>\n",
    "</figure>\n",
    "<br />\n",
    "<br />\n",
    "\n",
    "\n",
    "Up to this day, state-of-the-art methods use deep-learning-based supervised learning methods. A downfall of such an approach is the necessity to access a well-annotated training dataset. In histology, annotating data is difficult. It is time-consuming and requires the expertise of pathologists. Moreover, the annotator must label every tissue type while only two (TUMOR and STROMA) are interesting. \n",
    "\n",
    "\n",
    "Consequently, we propose another approach. In order to make the annotation task less tedious, we ask the annotator to label only the tissues of interest and dump the others. Then, we must train a binary classifier to automatically recognize these tissues at test time. In this part, you will implement the proposed approach."
   ]
  },
  {
   "cell_type": "markdown",
   "metadata": {},
   "source": [
    "### 1.1 Binary classifier with Mahalanobis distance (3 points)\n",
    "\n",
    "Based on the abovementioned process, your task is to build a model that recognizes TUMOR (Label 0) and STROMA (Label 1) tissue types. Your model will be supervised by a training dataset containing TUMOR and STROMA annotations; note that all other tissues have been dropped.\n",
    "We will not ask you to train a deep-learning-based binary classifier from scratch. Instead, we provide excellent features (descriptors) of the images we extracted from a visual foundation model. (Note: As the nature of the foundation model is not part of this lecture, feel free to ask TAs if you are curious).\n",
    "\n",
    "Run the cell below to extract the provided train and test dataset. Each image is represented by a 768-d feature vector extracted from a visual foundation model. The train and test datasets contain feature vectors of 878 and 186 images respectively."
   ]
  },
  {
   "cell_type": "code",
   "execution_count": 4,
   "metadata": {},
   "outputs": [
    {
     "data": {
      "text/plain": [
       "torch.Size([186, 768])"
      ]
     },
     "execution_count": 4,
     "metadata": {},
     "output_type": "execute_result"
    }
   ],
   "source": [
    "import torch \n",
    "\n",
    "# Label mapping\n",
    "label_to_classname = {0 : \"TUMOR\", 1 : \"STROMA\"}\n",
    "\n",
    "# Train features and labels\n",
    "train_features = torch.load(os.path.join(data_base_path, data_folder, \"part1/k16_train_features.pth\"))\n",
    "train_labels = torch.load(os.path.join(data_base_path, data_folder, \"part1/k16_train_labels.pth\"))\n",
    "\n",
    "# Test features and labels\n",
    "test_features = torch.load(os.path.join(data_base_path, data_folder, \"part1/k16_test_features.pth\"))\n",
    "test_labels = torch.load(os.path.join(data_base_path, data_folder, \"part1/k16_test_labels.pth\"))\n",
    "\n",
    "test_features.shape"
   ]
  },
  {
   "cell_type": "markdown",
   "metadata": {},
   "source": [
    "**Task 1 (2.5 points)** Based on the training features (```train_features```) and training labels (```train_labels```), classify the test features (```test_features```) using minimum Mahalanobis distance.\n",
    "\n",
    "*Note:* You are not allowed to use any prebuilt Mahalanobis distance function. Additionally, ```torch.cov``` is not defined to compute the covariance matrix. You can use ```sklearn.covariance.LedoitWolf``` instead."
   ]
  },
  {
   "cell_type": "code",
   "execution_count": 5,
   "metadata": {},
   "outputs": [],
   "source": [
    "from sklearn.covariance import LedoitWolf\n",
    "import scipy as sp\n",
    "import numpy as np\n",
    "\n",
    "### Task 1\n",
    "\n",
    "# Function to compute Mahalanobis Distance\n",
    "def mahalanobis(x, data):\n",
    "    \"\"\"\n",
    "    Computes the Mahalanobis Distance between each row of x and the data.\n",
    "    Mahalanobis distance D : D^2 = (x-m)^T * C^(-1) * (x-m)\n",
    "    x    : vector or matrix of data with p columns\n",
    "    data : ndarray of the distribution from which Mahalanobis distance of each observation of x is to be computed\n",
    "    \"\"\"\n",
    "    \n",
    "    # Compute (x – mean(data))\n",
    "    x_minus_mu = x - torch.mean(data)\n",
    "    \n",
    "    # Compute inverse of covariance of x\n",
    "    cov = LedoitWolf().fit(data).covariance_\n",
    "    inv_covmat = sp.linalg.inv(cov)\n",
    "    \n",
    "    # Compute Mahalanobis distance\n",
    "    mahal = np.dot(np.dot(x_minus_mu, inv_covmat), x_minus_mu.T)**(1/2)\n",
    "    \n",
    "    return mahal.diagonal()\n",
    "\n",
    "\n",
    "# Build the Mahalanobis Binary Classifier\n",
    "class MahalanobisBinaryClassifier():\n",
    "    def __init__(self, train_features, train_labels):\n",
    "        \n",
    "        # Split the training data as pos and neg\n",
    "        self.stroma_features = train_features[train_labels==1, :]\n",
    "        self.tumor_features = train_features[train_labels==0, :]\n",
    "\n",
    "    def predict_proba(self, test_features):\n",
    "        dists = list(zip(mahalanobis(test_features, self.stroma_features), mahalanobis(test_features, self.tumor_features)))\n",
    "        probs = np.array([(stromaDist/(stromaDist+tumorDist), tumorDist/(stromaDist+tumorDist)) for stromaDist, tumorDist in dists])\n",
    "        return probs\n",
    "\n",
    "    def predict(self, test_features):\n",
    "        return np.array([np.argmax(row) for row in self.predict_proba(test_features)])\n",
    "\n",
    "\n",
    "# Apply the MahalanobisBinaryClassifier\n",
    "clf = MahalanobisBinaryClassifier(train_features, train_labels)        \n",
    "pred_probs = clf.predict_proba(test_features)\n",
    "pred_class = clf.predict(test_features)"
   ]
  },
  {
   "cell_type": "markdown",
   "metadata": {},
   "source": [
    "**Task 2 (0.5 points)** Compute the accuracy of your predictions with the test labels (```test_labels```)."
   ]
  },
  {
   "cell_type": "code",
   "execution_count": 6,
   "metadata": {},
   "outputs": [
    {
     "name": "stdout",
     "output_type": "stream",
     "text": [
      "Accuracy Score: 0.67\n"
     ]
    }
   ],
   "source": [
    "from sklearn.metrics import accuracy_score\n",
    "\n",
    "### Task 2\n",
    "\n",
    "# Compute accuracy between predictions and the test labels\n",
    "print('Accuracy Score: {:.2f}'.format(accuracy_score(test_labels, pred_class)))"
   ]
  },
  {
   "cell_type": "markdown",
   "metadata": {},
   "source": [
    "### 1.2 Out-of-Distribution detection with Mahalanobis distance (3 points)\n",
    "\n",
    "You will note that the test you run above is not really realistic. Like the training set, it contains only the TUMOR and STROMA tissue types. Nevertheless, at test time, the other tissues (Label -1) are also present and cannot be filtered by hand. Moreover, they cannot be recognized by the model as they are out of the training distribution (It is the consequence of the laziness of the annotators ;)). For this reason, it is essential to filter them out. This task is called Out-of-Distribution (OoD) detection. \n",
    "\n",
    "A simple way to do OoD detection is to compute for every test example an OoD-ness score which should be low for In-Distribution (ID) examples and high for OoDs. Then we define a threshold from which every example with an OoD-ness lying above is discarded, and those lying below are forwarded to the model for prediction. An example of OoD-ness score is the minimum Mahalanobis distance.\n",
    "\n",
    "Run the cell below to load a new test set containing OoD examples. It has 186 ID and 558 OoD examples."
   ]
  },
  {
   "cell_type": "code",
   "execution_count": 7,
   "metadata": {},
   "outputs": [
    {
     "data": {
      "text/plain": [
       "torch.Size([744, 768])"
      ]
     },
     "execution_count": 7,
     "metadata": {},
     "output_type": "execute_result"
    }
   ],
   "source": [
    "label_to_classname_w_ood = {0 : \"TUMOR\", 1 : \"STROMA\", -1 : \"OoD\"}\n",
    "\n",
    "# Test features and labels with OoD tissues\n",
    "test_features_w_ood = torch.load(os.path.join(data_base_path, data_folder, \"part1/k16_test2_features.pth\"))\n",
    "test_labels_w_ood = torch.load(os.path.join(data_base_path, data_folder,\"part1/k16_test2_labels.pth\"))\n",
    "\n",
    "test_features_w_ood.shape"
   ]
  },
  {
   "cell_type": "markdown",
   "metadata": {},
   "source": [
    "**Task 1 (0.5 point)** Why do you think the minimum Mahalanobis distance is a good OoD-ness score?"
   ]
  },
  {
   "attachments": {},
   "cell_type": "markdown",
   "metadata": {},
   "source": [
    "**Answer: Looking at Mahalanobis distance of a sample from every available class (in our case 2 classes) enables to look at the similarity of the sample to the classes. OoD samples are not similar to any class and will thus have high distances to all of them, which leads to a high minimum Mahalanobis distance.**"
   ]
  },
  {
   "cell_type": "markdown",
   "metadata": {},
   "source": [
    "**Task 2 (0.5 point)** Compute the minimum Mahalanobis distance for every test examples in ```test_features_w_ood``` with respect to the training features (```train_features```)."
   ]
  },
  {
   "cell_type": "code",
   "execution_count": 8,
   "metadata": {},
   "outputs": [],
   "source": [
    "### Task 2\n",
    "\n",
    "# Compute the minimum Mahalanobis distance for every test examples in test_features_w_ood with respect to the training features (train_features)\n",
    "stroma_features = train_features[train_labels==1, :]\n",
    "tumor_features = train_features[train_labels==0, :]\n",
    "min_mahalanobis_ood = np.array([min(dist) for dist in zip(mahalanobis(test_features_w_ood, stroma_features), mahalanobis(test_features_w_ood, tumor_features))])"
   ]
  },
  {
   "cell_type": "markdown",
   "metadata": {},
   "source": [
    "**Task 3 (0.5 point)** Plot a histogram to show the difference between the Mahalanobis distance of TUMOR, STROMA and OoD tissue types and comment on what you observe."
   ]
  },
  {
   "cell_type": "code",
   "execution_count": 9,
   "metadata": {},
   "outputs": [
    {
     "data": {
      "image/png": "[encoded data removed]",
      "text/plain": [
       "<Figure size 576x288 with 1 Axes>"
      ]
     },
     "metadata": {
      "needs_background": "light"
     },
     "output_type": "display_data"
    }
   ],
   "source": [
    "import matplotlib.pyplot as plt\n",
    "\n",
    "### Task 3\n",
    "\n",
    "# Histogram to show the difference between the Mahalanobis distance of TUMOR, STROMA and OoD tissue types\n",
    "plt.figure(figsize=(8,4))\n",
    "plt.hist(min_mahalanobis_ood[test_labels_w_ood==0], alpha=0.5, label='STROMA')\n",
    "plt.hist(min_mahalanobis_ood[test_labels_w_ood==1], alpha=0.5, label='TUMOR')\n",
    "plt.hist(min_mahalanobis_ood[test_labels_w_ood==-1], alpha=0.3, label='OoD')\n",
    "plt.legend(loc='upper right')\n",
    "plt.xlabel(\"Mahalanobis distance\")\n",
    "plt.ylabel(\"Number\")\n",
    "plt.title(\"Mahalanobis distance for every test examples in test_features_w_ood with respect to train_features\")\n",
    "plt.show()"
   ]
  },
  {
   "attachments": {},
   "cell_type": "markdown",
   "metadata": {},
   "source": [
    "**Observations: A large part of the Out of Distribution samples are very close (following an mahalanobis distance) to classes' average position. This means it is almost impossible to use mahalanobis distance to filter out the Out of Distribution samples from the data.**"
   ]
  },
  {
   "cell_type": "markdown",
   "metadata": {},
   "source": [
    "**Task 4 (1 point)** Find a threshold on the Mahalanobis distance such that 95% of the OoD examples are filtered out. How much TUMOR and STROMA have also been filtered out?"
   ]
  },
  {
   "cell_type": "code",
   "execution_count": 12,
   "metadata": {},
   "outputs": [
    {
     "data": {
      "image/png": "[encoded data removed]",
      "text/plain": [
       "<Figure size 792x288 with 2 Axes>"
      ]
     },
     "metadata": {
      "needs_background": "light"
     },
     "output_type": "display_data"
    },
    {
     "name": "stdout",
     "output_type": "stream",
     "text": [
      "The threshold is: 55.407.\n",
      "It filters: 96.42% of OoD data, 77.42% of STROMA data, and 100.00% of TUMOR data.\n"
     ]
    }
   ],
   "source": [
    "### Task 4\n",
    "\n",
    "# Find the threshold on the Mahalanobis distance such that 95% of the OoD examples are filtered out\n",
    "\n",
    "    # Getting data of the histogram for OoD examples\n",
    "count, bins_count = np.histogram(min_mahalanobis_ood[test_labels_w_ood==-1], bins=100)\n",
    "  \n",
    "    # Finding the PDF of the histogram using count values\n",
    "pdf = count / sum(count)\n",
    "  \n",
    "    # Using numpy np.cumsum to calculate the CDF\n",
    "cdf = np.cumsum(pdf)\n",
    "\n",
    "    # Define the threshold\n",
    "threshold = bins_count[1:][cdf<=0.05][-1]\n",
    "  \n",
    "    # Plotting PDF and CDF with the threshold\n",
    "fig, (ax1, ax2) = plt.subplots(1, 2, figsize=(11,4))\n",
    "ax1.plot(bins_count[1:], pdf, color=\"green\", label=\"PDF\")\n",
    "ax1.plot(bins_count[1:], cdf, label=\"CDF\")\n",
    "ax1.axvline(x=threshold, color = 'red')\n",
    "ax1.legend()\n",
    "ax1.set(xlabel='Mahalanobis distance for OoD only', ylabel=\"Percentage\")\n",
    "\n",
    "    # Plotting distributions with the threshold\n",
    "ax2.hist(min_mahalanobis_ood[test_labels_w_ood==0], alpha=0.5, label='STROMA')\n",
    "ax2.hist(min_mahalanobis_ood[test_labels_w_ood==1], alpha=0.5, label='TUMOR')\n",
    "ax2.hist(min_mahalanobis_ood[test_labels_w_ood==-1], alpha=0.3, label='OoD')\n",
    "ax2.legend(loc='upper right')\n",
    "ax2.axvline(x=threshold, color = 'red')\n",
    "ax2.set(xlabel='Mahalanobis distance', ylabel=\"Number\")\n",
    "\n",
    "fig.suptitle(\"Threshold on the Mahalanobis distance such that 95% of the OoD examples are filtered\")\n",
    "plt.show()\n",
    "\n",
    "    # Print results\n",
    "print(\"The threshold is: {:.3f}.\".format(threshold))\n",
    "\n",
    "min_mahalanobis_ood_OoD = min_mahalanobis_ood[test_labels_w_ood==-1]\n",
    "min_mahalanobis_ood_Stroma = min_mahalanobis_ood[test_labels_w_ood==0]\n",
    "min_mahalanobis_ood_Tumor = min_mahalanobis_ood[test_labels_w_ood==1]\n",
    "\n",
    "percent_filtered_Ood = len(min_mahalanobis_ood_OoD[min_mahalanobis_ood_OoD>threshold]) / len(min_mahalanobis_ood_OoD)\n",
    "percent_filtered_Stroma = len(min_mahalanobis_ood_Stroma[min_mahalanobis_ood_Stroma>threshold]) / len(min_mahalanobis_ood_Stroma)\n",
    "percent_filtered_Tumor = len(min_mahalanobis_ood_Tumor[min_mahalanobis_ood_Tumor>threshold]) / len(min_mahalanobis_ood_Tumor)\n",
    "\n",
    "print(\"It filters: {:.2f}% of OoD data, {:.2f}% of STROMA data, and {:.2f}% of TUMOR data.\".format(100*percent_filtered_Ood, 100*percent_filtered_Stroma, 100*percent_filtered_Tumor))"
   ]
  },
  {
   "cell_type": "markdown",
   "metadata": {},
   "source": [
    "**Task 5 (0.5 point)** Assign prediction -1 to filtered out examples and compute the average class-wise accuracy of your prediction with test labels (```test_labels_w_ood```). Is it satisfactory?"
   ]
  },
  {
   "cell_type": "code",
   "execution_count": 19,
   "metadata": {},
   "outputs": [
    {
     "name": "stdout",
     "output_type": "stream",
     "text": [
      "Accuracy Score: 75.13%\n",
      "The accuracy for OoD samples: 96.42% | for stroma samples: 22.58% | for tumor samples: 0.00%\n"
     ]
    }
   ],
   "source": [
    "### Task 5\n",
    "\n",
    "# Apply the MahalanobisBinaryClassifier to test_features_w_ood\n",
    "clf = MahalanobisBinaryClassifier(train_features, train_labels)        \n",
    "pred_probs_ood = clf.predict_proba(test_features_w_ood)\n",
    "pred_class_ood = clf.predict(test_features_w_ood)\n",
    "\n",
    "# Assign prediction -1 to filtered out examples\n",
    "pred_class_ood[min_mahalanobis_ood>threshold] = -1\n",
    "\n",
    "# Compute accuracy between predictions and the test labels\n",
    "print('Accuracy Score: {:.2f}%'.format(100*accuracy_score(test_labels_w_ood, pred_class_ood)))\n",
    "\n",
    "# Compute the accuracy for the different sub-classes\n",
    "ood_accuracy = accuracy_score(pred_class_ood[test_labels_w_ood==-1], -1*np.ones_like(pred_class_ood[test_labels_w_ood==-1]))\n",
    "stroma_accuracy = accuracy_score(pred_class_ood[test_labels_w_ood==0], np.zeros_like(pred_class_ood[test_labels_w_ood==0]))\n",
    "tumor_accuracy = accuracy_score(pred_class_ood[test_labels_w_ood==1], 1*np.ones_like(pred_class_ood[test_labels_w_ood==1]))\n",
    "print(f'The accuracy for OoD samples: {ood_accuracy*100:.2f}% | for stroma samples: {stroma_accuracy*100:.2f}% | for tumor samples: {tumor_accuracy*100:.2f}%')"
   ]
  },
  {
   "attachments": {},
   "cell_type": "markdown",
   "metadata": {},
   "source": [
    "**This way of filtering is not relevant because the filter removes all data about the tumor. The general accuracy is high just by the fact that we have a lot of Out of Distribution samples, but this does not mean that the tumor versus stroma prediction is good.**"
   ]
  },
  {
   "cell_type": "markdown",
   "metadata": {},
   "source": [
    "### 1.3 Out-of-distribution detection with k-NN classifier (6 points)\n",
    "\n",
    "The visual foundation models are known to be very good k-NN classifiers. It motivates us to implement a k-NN classifier to recognize TUMOR and STROMA. Moreover, k-NN distance is a good OoD-ness score and suits our task.\n",
    "\n",
    "**Task 1 (2 points)** Based on the training features (```train_features```) and training labels (```train_labels```), classify the test features (```test_features```) using a k-NN classifier. Then report the accuracy of your predictions with the test labels (```test_labels```).\n",
    "\n",
    "*Note:* The choice of `k` is up to you."
   ]
  },
  {
   "cell_type": "code",
   "execution_count": 22,
   "metadata": {},
   "outputs": [
    {
     "name": "stdout",
     "output_type": "stream",
     "text": [
      "Accuracy Score: 0.99\n"
     ]
    }
   ],
   "source": [
    "import sklearn.neighbors\n",
    "\n",
    "### Task 1\n",
    "\n",
    "k = 7\n",
    "\n",
    "# k-NN classifier\n",
    "classifier = sklearn.neighbors.KNeighborsClassifier(n_neighbors=k, metric='euclidean')\n",
    "classifier.fit(train_features, train_labels)\n",
    "\n",
    "# Classify the test features (test_features) using the k-NN classifier\n",
    "predictions = classifier.predict(test_features)\n",
    "\n",
    "# Accuracy between predictions and test labels\n",
    "print('Accuracy Score: {:.2f}'.format(accuracy_score(test_labels, predictions)))"
   ]
  },
  {
   "cell_type": "markdown",
   "metadata": {},
   "source": [
    "**Task 2 (2 points)** Perform OoD detection on the test features (```test_features_w_ood```) using a k-NN distance based OoD-ness score. Find a threshold on your OoD-ness score such that 95% of the OoD examples are filtered out. How much TUMOR and STROMA have also been filtered out? Finally, assign prediction -1 to filter out examples and compute the average class-wise accuracy of your prediction with test labels (```test_labels_w_ood```).\n",
    "\n",
    "*Note:* The OoD-ness is based on the distance to the k-nearest neighbors. The formulation is up to you. You have to justify your choice."
   ]
  },
  {
   "cell_type": "code",
   "execution_count": 23,
   "metadata": {},
   "outputs": [
    {
     "name": "stdout",
     "output_type": "stream",
     "text": [
      "The OoD-ness score is the mean of the distances to the k-nearest neighbors.\n",
      "The threshold is: 44.146976470947266\n",
      "It filters: 95.699% of OoD data, 49.462% of STROMA data, and 69.892% of TUMOR data.\n",
      "\n",
      "The total accuracy is: 81.85483870967742%\n",
      "The accuracy for OoD samples: 95.6989247311828% | for stroma samples: 30.107526881720432% | for tumor samples: 50.53763440860215%\n"
     ]
    }
   ],
   "source": [
    "### Task 2\n",
    "print('The OoD-ness score is the mean of the distances to the k-nearest neighbors.')\n",
    "\n",
    "distances, _ = classifier.kneighbors(test_features_w_ood)\n",
    "OoD_ness_scores = np.mean(distances, axis=1)\n",
    "\n",
    "scores_for_ood = OoD_ness_scores[test_labels_w_ood==-1]\n",
    "scores_for_tumor = OoD_ness_scores[test_labels_w_ood==0]\n",
    "scores_for_stroma = OoD_ness_scores[test_labels_w_ood==1]\n",
    "\n",
    "threshold = scores_for_ood[int(0.05*len(scores_for_ood))]\n",
    "print(f'The threshold is: {threshold}')\n",
    "\n",
    "\n",
    "percent_filtered_Ood = np.sum(scores_for_ood>threshold) / np.sum(test_labels_w_ood==-1)\n",
    "percent_filtered_Stroma = np.sum(scores_for_stroma>threshold) / np.sum(test_labels_w_ood==0)\n",
    "percent_filtered_Tumor = np.sum(scores_for_tumor>threshold) / np.sum(test_labels_w_ood==1)\n",
    "print(\"It filters: {:.3f}% of OoD data, {:.3f}% of STROMA data, and {:.3f}% of TUMOR data.\".format(percent_filtered_Ood*100, percent_filtered_Stroma*100, percent_filtered_Tumor*100))\n",
    "\n",
    "predictions = classifier.predict(test_features_w_ood)\n",
    "predictions[OoD_ness_scores>threshold] = -1\n",
    "print(f'\\nThe total accuracy is: {accuracy_score(test_labels_w_ood, predictions)*100}%')\n",
    "\n",
    "ood_accuracy = accuracy_score(predictions[test_labels_w_ood==-1], -1*np.ones_like(predictions[test_labels_w_ood==-1]))\n",
    "stroma_accuracy = accuracy_score(predictions[test_labels_w_ood==0], np.zeros_like(predictions[test_labels_w_ood==0]))\n",
    "tumor_accuracy = accuracy_score(predictions[test_labels_w_ood==1], 1*np.ones_like(predictions[test_labels_w_ood==1]))\n",
    "print(f'The accuracy for OoD samples: {ood_accuracy*100}% | for stroma samples: {stroma_accuracy*100}% | for tumor samples: {tumor_accuracy*100}%')"
   ]
  },
  {
   "attachments": {},
   "cell_type": "markdown",
   "metadata": {},
   "source": [
    "**Here we used the mean distance to the k nearest neighbours as OoD-ness score. Indeed, taking the minimum**"
   ]
  },
  {
   "cell_type": "markdown",
   "metadata": {},
   "source": [
    "**Task 3 (1 point)** Is k-NN better than Mahalanobis distance ? Make an hypothesis for the reasons."
   ]
  },
  {
   "cell_type": "markdown",
   "metadata": {},
   "source": [
    "**Answer:**"
   ]
  },
  {
   "cell_type": "markdown",
   "metadata": {},
   "source": [
    "**Task 4 (1 point)** Do you think we can suggest the approach presented in this exercise to compute TUMOR/STROMA ratio automatically ? Justify your thoughs. If not, suggest at least two ideas to improve it.\n",
    "\n",
    "*Note:* Annotating all the training dataset is not an option."
   ]
  },
  {
   "cell_type": "markdown",
   "metadata": {},
   "source": [
    "**Answer:**"
   ]
  },
  {
   "cell_type": "markdown",
   "metadata": {},
   "source": [
    "---\n",
    "\n",
    "## Part 2 (12 points)\n",
    "In this part, we aim to classify cervical cells resulting from Pap smear tests. To that end we'll be using a publicly available cell dataset: Sipakmed (https://www.cs.uoi.gr/~marina/sipakmed.html). The dataset is composed of 4049 images of isolated cells cropped from 966 cluster cell images of Pap smear slides. Each cell in the dataset has been categorized in either of the following categories: \n",
    "\n",
    "    - Superficial-Intermediate.\n",
    "    - Parabasal.\n",
    "    - Koilocytotic.\n",
    "    - Dysketarotic.\n",
    "    - Metaplastic.\n",
    "Your objective is to implement a classifier to automate the cell classification process. To ease your work we provide you with pre-computed embeddings for each images (`lab-03-data/part2/sipakmed_clean_embeddings.pth`). The embeddings are obtained from a pre-trained ResNet-50 (https://arxiv.org/pdf/1512.03385.pdf) and the corresponding images are also provided (`lab-03-data/part2/sipakmed_clean`). Note that you are free to discard the provided embeddings and work directy with the images."
   ]
  },
  {
   "cell_type": "markdown",
   "metadata": {},
   "source": [
    "### 2.1 Dataset (4 points)\n",
    "Your first task is prepare the dataset such that it can be used to train your model. For that purpose we prepared the skeleton of the class `Sipakmed` that inherits from the class `Dataset` of PyTorch. Read the documentation (https://pytorch.org/tutorials/beginner/basics/data_tutorial.html#creating-a-custom-dataset-for-your-files) and complete the missing parts."
   ]
  },
  {
   "cell_type": "code",
   "execution_count": null,
   "metadata": {},
   "outputs": [],
   "source": [
    "import torch\n",
    "import numpy as np\n",
    "from torch.utils.data import Dataset, DataLoader\n",
    "import matplotlib.pyplot as plt\n",
    "from PIL import Image\n",
    "import os\n",
    "from torch import nn\n",
    "from collections import OrderedDict\n",
    "from sklearn.metrics import confusion_matrix, ConfusionMatrixDisplay\n",
    "import math"
   ]
  },
  {
   "cell_type": "code",
   "execution_count": null,
   "metadata": {},
   "outputs": [],
   "source": [
    "# Load the features\n",
    "features_path = '../data/lab-03-data/part2/sipakmed_clean_embeddings.pth'"
   ]
  },
  {
   "cell_type": "code",
   "execution_count": null,
   "metadata": {},
   "outputs": [],
   "source": [
    "class Sipakmed(Dataset):\n",
    "    phase_dict = {\n",
    "            'train': {'start': 0.0, 'stop': 0.5},\n",
    "            'val': {'start': 0.5, 'stop': 0.75},\n",
    "            'test': {'start': 0.75, 'stop': 1.0}\n",
    "    }\n",
    "    label_dict = {\n",
    "        'im_Superficial-Intermediate': 0,\n",
    "        'im_Parabasal': 1, \n",
    "        'im_Metaplastic': 2,\n",
    "        'im_Koilocytotic': 3,\n",
    "        'im_Dyskeratotic': 4\n",
    "    }\n",
    "    \n",
    "    def __init__(self, features_path, phase):\n",
    "\n",
    "        super(Sipakmed, self).__init__()\n",
    "        # Store class attributes\n",
    "        self.phase = phase\n",
    "        \n",
    "        # Collect the dataimport torch\n",
    "        import torch.nn.functional as F\n",
    "        import numpy as np\n",
    "        self.raw_data = torch.load(features_path)\n",
    "        self.features, self.labels, self.paths = self.collect_data()\n",
    "        \n",
    "    def collect_data(self):\n",
    "        # Iterate over the dirs/classes\n",
    "        features, labels, paths = [], [], []\n",
    "        for dir_name, dir_dict in self.raw_data.items():\n",
    "            # Get the paths and embeddings\n",
    "            dir_paths, dir_embeddings = list(zip(*[(k, v) for k, v in dir_dict.items()]))\n",
    "            \n",
    "            # Split\n",
    "            n = len(dir_paths)\n",
    "            np.random.seed(42)\n",
    "            permutations = np.random.permutation(n)\n",
    "            dir_paths = np.array(dir_paths)[permutations]\n",
    "            dir_embeddings = torch.stack(dir_embeddings)[permutations]\n",
    "            n_start = int(n * self.phase_dict[self.phase]['start'])\n",
    "            n_stop = int(n * self.phase_dict[self.phase]['stop'])\n",
    "            dir_embeddings = dir_embeddings[n_start: n_stop]\n",
    "            dir_paths = dir_paths[n_start: n_stop]\n",
    "    \n",
    "            # Store\n",
    "            features.append(dir_embeddings)\n",
    "            paths.append(dir_paths)\n",
    "            dir_labels = torch.tensor([self.label_dict[p.split('/')[-2]] for p in dir_paths])\n",
    "            labels.append(dir_labels)\n",
    "            \n",
    "        # Merge\n",
    "        features = torch.cat(features)\n",
    "        labels = torch.cat(labels)\n",
    "        paths = np.concatenate(paths)\n",
    "        return features, labels, paths\n",
    "            \n",
    "        \n",
    "    def __len__(self,):\n",
    "        \"\"\"\n",
    "        Returns the number of samples in the dataset.\n",
    "        \"\"\"\n",
    "        return len(self.labels)\n",
    "    \n",
    "    def __getitem__(self, index):\n",
    "        \"\"\"\n",
    "        Returns the embedding, label, and image path of queried index.\n",
    "        \"\"\"\n",
    "        embedding = self.features[index]\n",
    "        label = self.labels[index]\n",
    "        path = self.paths[index]\n",
    "        return embedding, label, path"
   ]
  },
  {
   "cell_type": "markdown",
   "metadata": {},
   "source": [
    "Once the implementation of `Sipakmed` completed, create 3 instances of the class (train/val/test) with the corresponding `phase` flag."
   ]
  },
  {
   "cell_type": "code",
   "execution_count": null,
   "metadata": {},
   "outputs": [],
   "source": [
    "# Instantiate the datasets\n",
    "train_dataset = Sipakmed(features_path, 'train')\n",
    "val_dataset = Sipakmed(features_path, 'val')\n",
    "test_dataset = Sipakmed(features_path, 'test')"
   ]
  },
  {
   "cell_type": "markdown",
   "metadata": {},
   "source": [
    "Now that your datasets are ready, use the class `DataLoader` from PyTorch to let it handle efficiently the batching, shuffling, etc. of your data."
   ]
  },
  {
   "cell_type": "code",
   "execution_count": null,
   "metadata": {},
   "outputs": [],
   "source": [
    "# Instantiate the data loaders\n",
    "train_loader = DataLoader(train_dataset, batch_size=64, shuffle=True)\n",
    "val_loader = DataLoader(val_dataset, batch_size=64, shuffle=True)\n",
    "test_loader = DataLoader(test_dataset, batch_size=64, shuffle=True)"
   ]
  },
  {
   "cell_type": "markdown",
   "metadata": {},
   "source": [
    "Get to know your data. Plot a few example images for each class of your dataset."
   ]
  },
  {
   "cell_type": "code",
   "execution_count": null,
   "metadata": {},
   "outputs": [],
   "source": [
    "import cv2\n",
    "\n",
    "# Visualize some training example\n",
    "\n",
    "label_to_name = {\n",
    "    0 : 'im_Superficial-Intermediate',\n",
    "    1 : 'im_Parabasal', \n",
    "    2 : 'im_Metaplastic',\n",
    "    3 : 'im_Koilocytotic',\n",
    "    4 : 'im_Dyskeratotic'}\n",
    "\n",
    "for class_ in range(len(label_to_name)):\n",
    "    print(\".........................\")\n",
    "    print(label_to_name[class_])\n",
    "    figure = plt.figure(figsize=(10, 8))\n",
    "    cols, rows = 4, 1\n",
    "    dataset = train_dataset[train_dataset.labels==class_]\n",
    "    for i in range(1, cols * rows + 1):\n",
    "        sample_idx = torch.randint(len(dataset), size=(1,)).item()\n",
    "        path, label = dataset[2][sample_idx], dataset[1][sample_idx]\n",
    "        img = cv2.imread('../data/lab-03-data/part2/'+path)\n",
    "        figure.add_subplot(rows, cols, i)\n",
    "        plt.axis(\"off\")\n",
    "        plt.imshow(img.squeeze(), cmap=\"gray\")\n",
    "    plt.show()"
   ]
  },
  {
   "cell_type": "markdown",
   "metadata": {},
   "source": [
    "### 2.2 Training (4 points)\n",
    "In this part your objective is to implement the required tools to train your model. The first thing you'll need is a a model which takes as input the pre-computed features and returns the corresponding class probabilities/logits."
   ]
  },
  {
   "cell_type": "code",
   "execution_count": null,
   "metadata": {},
   "outputs": [],
   "source": [
    "class Net(nn.Module):\n",
    "    def __init__(self, len_features):\n",
    "        super().__init__()\n",
    "        self.fc1 = nn.Linear(len_features, 120)\n",
    "        self.fc2 = nn.Linear(120, 84)\n",
    "        self.fc3 = nn.Linear(84, 5)\n",
    "        self.Softmax = nn.Softmax()\n",
    "\n",
    "    def forward(self, x):\n",
    "        x = F.relu(self.fc1(x))\n",
    "        x = F.relu(self.fc2(x))\n",
    "        x = self.fc3(x)\n",
    "        return x\n",
    "\n",
    "# Implement the model\n",
    "embedding_dim = train_dataset.features.shape[1]\n",
    "model = Net(embedding_dim)"
   ]
  },
  {
   "cell_type": "markdown",
   "metadata": {},
   "source": [
    "The optimizer will keep track of your model's parameters, gradients, etc (https://pytorch.org/docs/stable/optim.html). It is responsible to update your model's parameters after each forward pass using the backpropagation algorithm."
   ]
  },
  {
   "cell_type": "code",
   "execution_count": null,
   "metadata": {},
   "outputs": [],
   "source": [
    "# Set the optimizer\n",
    "optimizer = torch.optim.Adam(model.parameters(), lr=0.001)"
   ]
  },
  {
   "cell_type": "code",
   "execution_count": null,
   "metadata": {},
   "outputs": [],
   "source": [
    "# Set the loss\n",
    "criterion = nn.CrossEntropyLoss()"
   ]
  },
  {
   "cell_type": "markdown",
   "metadata": {},
   "source": [
    "Implement a function that takes as input the model's output and the corresponding labels and returns the perçentage of correct predictions."
   ]
  },
  {
   "cell_type": "code",
   "execution_count": null,
   "metadata": {},
   "outputs": [],
   "source": [
    "def accuracy(outputs, labels):\n",
    "    \"\"\"\n",
    "    Computes the accuracy of predictions based on the model outputs (NxK: N samples, K classes) \n",
    "    and the labels (N: N samples).\n",
    "    \"\"\"\n",
    "    predictions = np.argmax(outputs, axis=1)\n",
    "    accuracy_score(labels, predictions)"
   ]
  },
  {
   "cell_type": "markdown",
   "metadata": {},
   "source": [
    "Implement a funtion `train` that forwards the complete training set through your model (= 1 epoch) and updates its parameters after each forward pass. To keep track of the training process make sure to at least return the accuracy of the model and the average loss it incurred through the current epoch."
   ]
  },
  {
   "cell_type": "code",
   "execution_count": null,
   "metadata": {},
   "outputs": [],
   "source": [
    "def train(model, optimizer, criterion, loader):\n",
    "    \n",
    "    # Set the model in train mode\n",
    "    model.train()\n",
    "    \n",
    "    # Iterate over the batches\n",
    "    full_outputs = []\n",
    "    full_labels = []\n",
    "    losses = []\n",
    "    \n",
    "    for batch in loader:\n",
    "        \n",
    "        # Get the embeddings, labels and paths \n",
    "        embeddings = batch[0]\n",
    "        labels = batch[1]\n",
    "        paths = batch[2]\n",
    "        \n",
    "        # Feed the embeddings to the model\n",
    "        outputs = model(embeddings)\n",
    "\n",
    "        # Compute cross entropy loss\n",
    "        loss = criterion(outputs, labels)\n",
    "        \n",
    "        # Reset the gradients\n",
    "        optimizer.zero_grad()\n",
    "        \n",
    "        # Backpropagate\n",
    "        loss.backward()\n",
    "\n",
    "        # Update the parameters\n",
    "        optimizer.step()\n",
    "        \n",
    "        # Store the outputs, labels and loss\n",
    "        full_outputs.append(outputs)\n",
    "        full_labels.append(labels)\n",
    "        losses.append(loss)\n",
    "    \n",
    "    # Concat\n",
    "    full_outputs = torch.cat(full_outputs).cpu()\n",
    "    full_labels = torch.cat(full_labels).cpu()\n",
    "    losses = torch.stack(losses).mean().cpu()\n",
    "    \n",
    "    # Compute the accuracy\n",
    "    acc = accuracy(full_outputs, full_labels)\n",
    "    return acc, full_outputs, full_labels, losses"
   ]
  },
  {
   "cell_type": "markdown",
   "metadata": {},
   "source": [
    "Implement a funtion `validate` that forwards the complete validation or test set through your model and evaluates its predictions. To keep track of the training process make sure to at least return the accuracy of the model and the average loss it incurred through the current epoch."
   ]
  },
  {
   "cell_type": "code",
   "execution_count": null,
   "metadata": {},
   "outputs": [],
   "source": [
    "@torch.no_grad()\n",
    "def validate(model, criterion, loader):\n",
    "    \n",
    "    # Set the model in train mode\n",
    "    model.train()\n",
    "    \n",
    "    # Iterate over the batches\n",
    "    full_outputs = []\n",
    "    full_labels = []\n",
    "    full_paths = []\n",
    "    losses = []\n",
    "    \n",
    "    for batch in loader:\n",
    "        \n",
    "        # Get the embeddings, labels and paths\n",
    "        embeddings = batch[0]\n",
    "        labels = batch[1]\n",
    "        paths = batch[2]\n",
    "        \n",
    "        # Feed the embeddings to the model\n",
    "        outputs = model(embeddings)\n",
    "\n",
    "        # Compute cross entropy loss\n",
    "        loss = criterion(outputs, labels)\n",
    "        \n",
    "        # Store the outputs, labels, paths and loss\n",
    "        full_outputs.append(outputs)\n",
    "        full_labels.append(labels)\n",
    "        full_paths.append(paths)\n",
    "        losses.append(loss)\n",
    "    \n",
    "    # Concat\n",
    "    full_outputs = torch.cat(full_outputs).cpu()\n",
    "    full_labels = torch.cat(full_labels).cpu()\n",
    "    losses = torch.stack(losses).mean().cpu()\n",
    "    full_paths = np.concatenate(full_paths)\n",
    "    \n",
    "    # Compute the accuracy\n",
    "    acc = accuracy(full_outputs, full_labels)\n",
    "    return acc, full_outputs, full_labels, losses, full_paths"
   ]
  },
  {
   "cell_type": "markdown",
   "metadata": {},
   "source": [
    "You should now be able to train you model. Alternate between training and validation steps to find and save the best model (best accuracy on the validation set)."
   ]
  },
  {
   "cell_type": "code",
   "execution_count": null,
   "metadata": {},
   "outputs": [],
   "source": [
    "# Main loop\n",
    "epochs = 5\n",
    "best_acc = 0\n",
    "model_savepath = '../data'\n",
    "\n",
    "for epoch in range(epochs):\n",
    "    \n",
    "    # Train\n",
    "    train_acc, train_full_outputs, train_full_labels, train_losses = train(model, optimizer, criterion, train_loader)\n",
    "\n",
    "    # Evaluate\n",
    "    val_acc, val_full_outputs, val_full_labels, val_losses, val_full_paths = validate(model, criterion, val_loader)\n",
    "    \n",
    "    # Print results\n",
    "    print(\"Epoch{}\".format(epoch))\n",
    "    print(\"train accuracy: {}\".format(train_acc))\n",
    "    print(\"validation accuracy: {}\".format(val_acc))\n",
    "    \n",
    "    # Save the model\n",
    "    if val_acc > best_acc:\n",
    "        torch.save(model.state_dict(), model_savepath+\"/model_part2.pt\")\n",
    "        print(\"Model saved!\")"
   ]
  },
  {
   "cell_type": "markdown",
   "metadata": {},
   "source": [
    "### 2.3 Evaluation (4 points)\n",
    "Re-load the best model and evaluate its predictions on the test set."
   ]
  },
  {
   "cell_type": "code",
   "execution_count": null,
   "metadata": {},
   "outputs": [],
   "source": [
    "# Re-load the best model\n",
    "model = model.load_state_dict(torch.load(model_savepath+\"/model_part2.pt\"))\n",
    "\n",
    "# Evaluate\n",
    "test_acc, test_full_outputs, test_full_labels, test_losses, test_full_paths = validate(model, criterion, test_loader)\n",
    "print(\"Test accuracy: {}\".format(test_acc))"
   ]
  },
  {
   "cell_type": "markdown",
   "metadata": {},
   "source": [
    "A useful tool to analyze your model's performance on the different classes is the confusion matrix (https://scikit-learn.org/stable/modules/generated/sklearn.metrics.confusion_matrix.html). Computes its entries for your model and the test set."
   ]
  },
  {
   "cell_type": "code",
   "execution_count": null,
   "metadata": {},
   "outputs": [],
   "source": [
    "from sklearn.metrics import confusion_matrix\n",
    "\n",
    "# Display the confusion matrix\n",
    "test_predictions = np.argmax(test_full_outputs, axis=1)\n",
    "confusion_matrix(test_full_labels, test_predictions)"
   ]
  },
  {
   "cell_type": "markdown",
   "metadata": {},
   "source": [
    "Alternatively it can be useful to plot the problematic samples as well as the predicted and ground truth classes. Can you do so?"
   ]
  },
  {
   "cell_type": "code",
   "execution_count": null,
   "metadata": {},
   "outputs": [],
   "source": [
    "# Find the misclassified samples\n",
    "misclassified_samples_paths = test_full_paths[test_full_labels!=test_predictions]\n",
    "misclassified_samples_pred = test_predictions[test_full_labels!=test_predictions]\n",
    "misclassified_samples_truth = test_full_labels[test_full_labels!=test_predictions]\n",
    "\n",
    "# Plot the misclassified samples\n",
    "for i in range(len(misclassified_samples)):\n",
    "    img = cv2.imread('../data/lab-03-data/part2/'+misclassified_samples_paths[i])\n",
    "    plt.imshow(img.squeeze(), cmap=\"gray\")\n",
    "    plt.title(\"pred: \" + label_to_name[misclassified_samples_pred[i]] + \"/ truth: \" + label_to_name[misclassified_samples_truth[i]])\n",
    "    plt.axis(\"off\")\n",
    "    plt.show()"
   ]
  }
 ],
 "metadata": {
  "kernelspec": {
   "display_name": "iapr",
   "language": "python",
   "name": "python3"
  },
  "language_info": {
   "codemirror_mode": {
    "name": "ipython",
    "version": 3
   },
   "file_extension": ".py",
   "mimetype": "text/x-python",
   "name": "python",
   "nbconvert_exporter": "python",
   "pygments_lexer": "ipython3",
   "version": "3.6.13"
  }
 },
 "nbformat": 4,
 "nbformat_minor": 4
}
